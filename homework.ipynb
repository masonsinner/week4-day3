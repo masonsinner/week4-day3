{
 "cells": [
  {
   "cell_type": "markdown",
   "metadata": {},
   "source": [
    "# Time/Space Complexity - Intro to Data Structures (User Defined)\n",
    "\n",
    "### Topics to discuss today:\n",
    "\n",
    "<ul>\n",
    "    <li>Time and Space Complexity - What is it/How do we measure it</li>\n",
    "    <li>Asymptotic Analysis</li>\n",
    "    <li><strong>Data Structures</strong></li>\n",
    "    <li>Some of the popular sorting algorithms</li>\n",
    "</ul>\n",
    "\n",
    "### Data Structures to discuss:\n",
    "- Arrays\n",
    "- Stacks\n",
    "- Queues\n",
    "- Linked Lists\n",
    "    - Singly Linked Lists\n",
    "    - Traversing A Linked List\n",
    "    - Finding a node in a linked list\n",
    "    - Adding to a linked list\n",
    "- Binary Search Trees\n",
    "    - Construction\n",
    "    - Traversal\n"
   ]
  },
  {
   "cell_type": "markdown",
   "metadata": {},
   "source": [
    "## Time and Space Complexity\n",
    "\n",
    "#### What is it?\n",
    "\n",
    "Time and space complexity is the measure of how much time a given action(function) will take to solve a problem. In the same fashion, we determine how much a given data structure will need in terms of memory allocation. A problem can have multiple solutions and finding the optimal solution for the problem needs to be analyzed in time and space.\n",
    "\n",
    "#### How do we measure Time and Space Complexity?\n",
    "\n",
    "In order to measure time and space complexity we use Asymptotic analysis. The reason for this is because we need a way to measure different algorithms (functions) based on the size of their inputs in a mathmatical way. For example, we could have a function that is computed as f(n) and another that is g(n^2). All things around the function staying constant, the only thing that changes is the size of the input. Below is the chart that shows the different Asymptotic analysis formats. "
   ]
  },
  {
   "cell_type": "markdown",
   "metadata": {},
   "source": [
    "<table style=\"text-align:center;\" class=\"table table-bordered\">\n",
    "<tbody><tr>\n",
    "<td>constant</td>\n",
    "<td>−</td>\n",
    "<td>Ο(1)</td>\n",
    "</tr>\n",
    "<tr>\n",
    "<td>logarithmic</td>\n",
    "<td>−</td>\n",
    "<td>Ο(log n)</td>\n",
    "</tr>\n",
    "<tr>\n",
    "<td>linear</td>\n",
    "<td>−</td>\n",
    "<td>Ο(n)</td>\n",
    "</tr>\n",
    "<tr>\n",
    "<td>Linear Logarithmic</td>\n",
    "<td>−</td>\n",
    "<td>Ο(n log n)</td>\n",
    "</tr>\n",
    "<tr>\n",
    "<td>quadratic</td>\n",
    "<td>−</td>\n",
    "<td>Ο(n<sup>2</sup>)</td>\n",
    "</tr>\n",
    "<tr>\n",
    "<td>cubic</td>\n",
    "<td>−</td>\n",
    "<td>Ο(n<sup>3</sup>)</td>\n",
    "</tr>\n",
    "<tr>\n",
    "<td>polynomial</td>\n",
    "<td>−</td>\n",
    "<td>n<sup>Ο(1)</sup></td>\n",
    "</tr>\n",
    "<tr>\n",
    "<td>exponential</td>\n",
    "<td>−</td>\n",
    "<td>2<sup>Ο(n)</sup></td>\n",
    "</tr>\n",
    "</tbody></table>"
   ]
  },
  {
   "cell_type": "markdown",
   "metadata": {},
   "source": [
    "## Arrays"
   ]
  },
  {
   "cell_type": "markdown",
   "metadata": {},
   "source": [
    "In python we benefit from the dynamic array which means the block of memory will expand as needed for the given input to the array. In traditional arrays (depending on the type of operating system) we will usually store our inputs in 4 or 8 consecutive blocks of memory. "
   ]
  },
  {
   "cell_type": "markdown",
   "metadata": {},
   "source": [
    "## Which in python looks like this:"
   ]
  },
  {
   "cell_type": "code",
   "execution_count": 1,
   "metadata": {},
   "outputs": [
    {
     "name": "stdout",
     "output_type": "stream",
     "text": [
      "[1, 2, 3, 4, 5, 6, 7, 8, 9, 10]\n",
      "[1, 2, 3, 4, 5, 6, 7, 8, 9, 10]\n"
     ]
    }
   ],
   "source": [
    "list_of_ten = []\n",
    "for i in range(1,11):\n",
    "    list_of_ten.append(i) #slower, uses more memory \n",
    "    \n",
    "list_of_ten_comp = [i for i in range(1,11)] #faster\n",
    "\n",
    "print(list_of_ten_comp)\n",
    "print(list_of_ten)"
   ]
  },
  {
   "cell_type": "markdown",
   "metadata": {},
   "source": [
    "### Let's take a look at some of the time and space analysis of arrays"
   ]
  },
  {
   "cell_type": "code",
   "execution_count": 3,
   "metadata": {},
   "outputs": [
    {
     "name": "stdout",
     "output_type": "stream",
     "text": [
      "[37, 43, 52, 4, 30, 68, 81, 6, 7, 57]\n"
     ]
    }
   ],
   "source": [
    "import random \n",
    "\n",
    "my_arr = [random.randint(1,100) for _ in range(10)]\n",
    "print(my_arr)"
   ]
  },
  {
   "cell_type": "code",
   "execution_count": 7,
   "metadata": {},
   "outputs": [
    {
     "name": "stdout",
     "output_type": "stream",
     "text": [
      "52\n",
      "False\n",
      "[37, 43, 52, 4, 30, 68, 81, 6, 7, 57]\n",
      "[37, 43, 1000, 4, 30, 68, 81, 6, 7, 57]\n"
     ]
    }
   ],
   "source": [
    "#indexing a list \n",
    "#Constant Time and Space - 0(1)\n",
    "\n",
    "indexing = my_arr[2]\n",
    "print(indexing)\n",
    "\n",
    "#Searching through an array \n",
    "#Linear Time - O(n) and Constant Space - O (1)\n",
    "print(24 in my_arr)\n",
    "\n",
    "#Copy a List \n",
    "#Linear Time - O(n) and Linear Space - O(n)\n",
    "coppied_arr = my_arr[:]\n",
    "print(coppied_arr)\n",
    "\n",
    "#Assigning an index value to a list \n",
    "#Constant Time - O(1) and Constant Space - O(1)\n",
    "my_arr[2] = 1000\n",
    "print(my_arr)"
   ]
  },
  {
   "cell_type": "code",
   "execution_count": 10,
   "metadata": {},
   "outputs": [
    {
     "name": "stdout",
     "output_type": "stream",
     "text": [
      "1\n",
      "4\n",
      "9\n",
      "4\n",
      "16\n",
      "36\n",
      "9\n",
      "36\n",
      "81\n",
      "1\n",
      "4\n",
      "9\n"
     ]
    },
    {
     "data": {
      "text/plain": [
       "[1, 4, 9]"
      ]
     },
     "execution_count": 10,
     "metadata": {},
     "output_type": "execute_result"
    }
   ],
   "source": [
    "def some_func(arr):\n",
    "    for x in range(len(arr)): #O(n) - Linear Time\n",
    "        arr[x] = arr[x]**2 #O(1) - Constant Time \n",
    "    for i in arr: #O(n) - Linear Time\n",
    "        for j in arr: #O(n) - Linear Time\n",
    "            print(i*j) #O(1) - Constant Time\n",
    "    for r in arr: #O(n) - Linear Time\n",
    "        print(r) #O(1) - Constant Time\n",
    "    return arr #O(1) - Constant Time (If it is an expression might not be Constant)\n",
    "\n",
    "some_func([1,2,3]) #O(n * 1 + (n * n * 1) + n * 1 + 1)\n",
    "\n",
    "#0(n + n**2 + n + 1)\n",
    "#0(n**2 + 2n + 1)\n",
    "#Drop Constants and Lower order complexisities \n",
    "# O(n**2)"
   ]
  },
  {
   "cell_type": "code",
   "execution_count": 12,
   "metadata": {},
   "outputs": [
    {
     "data": {
      "text/plain": [
       "2.5"
      ]
     },
     "execution_count": 12,
     "metadata": {},
     "output_type": "execute_result"
    }
   ],
   "source": [
    "def median(lst): # O (n log n)\n",
    "    lst.sort() #O(n log n)\n",
    "    if len(lst) % 2 == 1: # O(n) \n",
    "        mid = len(lst) // 2 # O(n)\n",
    "        return lst[mid] #O(1)\n",
    "    else:\n",
    "        left_mid = len(lst) // 2 #O(n)\n",
    "        right_mid = len(lst) // 2 + 1 #O(n)\n",
    "        return (left_mid + right_mid) / 2 #O(1)\n",
    "\n",
    "median([1,4,2,3])  "
   ]
  },
  {
   "cell_type": "markdown",
   "metadata": {},
   "source": [
    "## Stacks and Queues (Review)\n",
    "\n",
    "** Stacks ** as the name suggests is a data structure that allows for data to follow the Last In First Out priciple(LIFO). Think of a stack of pancakes for example. To get the first pancake you would  start with the top and go down.\n",
    "\n",
    "##### Searching through a stack will be Linear Time O(n) - Constant Space O(1)\n",
    "##### Selecting the first item will be done in Linear Time O(n) - Constant Space O(1)\n",
    "##### Selecting the last item will be done in Constant Time O(1) - Constant Space O(1)\n",
    "##### Adding to the stack will be done in Constant Time O(1) - Constant Space O(1)\n",
    "\n",
    "** Queues ** are similar but in this case follow the First In First Out principle(FIFO). Think of this as a line in a black friday sale. The first person camped out for the big screen tv is the first to get it.\n",
    "\n",
    "##### Searching through a queue will be Linear Time O(n) - Constant Space O(1)\n",
    "##### Selecting the first item will be done in Constant Time O(1) - Constant Space O(1)\n",
    "##### Selecting the last item will be done in Linear Time O(n) - Constant Space O(1)\n",
    "##### Adding to the queue should take Constant Time O(1) - Constant Space O(1)"
   ]
  },
  {
   "cell_type": "code",
   "execution_count": 13,
   "metadata": {},
   "outputs": [],
   "source": [
    "# https://docs.python.org/3/library/collections.html\n",
    "\n",
    "from collections import deque"
   ]
  },
  {
   "cell_type": "code",
   "execution_count": 15,
   "metadata": {},
   "outputs": [
    {
     "name": "stdout",
     "output_type": "stream",
     "text": [
      "Stack: \n",
      "deque([10, 20, 30, 40, 50])\n",
      "50\n",
      "deque([10, 20, 30, 40])\n",
      "40\n",
      "deque([10, 20, 30])\n",
      "30\n",
      "deque([10, 20])\n",
      "20\n",
      "deque([10])\n",
      "10\n",
      "deque([])\n"
     ]
    }
   ],
   "source": [
    "print(\"Stack: \")\n",
    "\n",
    "stack = deque([10, 20, 30])\n",
    "\n",
    "stack.append(40)\n",
    "stack.append(50)\n",
    "\n",
    "print(stack)\n",
    "\n",
    "while stack:\n",
    "    print(stack.pop())\n",
    "    print(stack)"
   ]
  },
  {
   "cell_type": "code",
   "execution_count": 19,
   "metadata": {},
   "outputs": [
    {
     "name": "stdout",
     "output_type": "stream",
     "text": [
      "Queue: \n",
      "deque(['Brain', 'Kevin', 'Alex', 'Sarah', 'Robert'])\n",
      "Brain\n",
      "deque(['Kevin', 'Alex', 'Sarah', 'Robert'])\n",
      "Kevin\n",
      "deque(['Alex', 'Sarah', 'Robert'])\n",
      "Alex\n",
      "deque(['Sarah', 'Robert'])\n",
      "Sarah\n",
      "deque(['Robert'])\n",
      "Robert\n",
      "deque([])\n"
     ]
    }
   ],
   "source": [
    "print('Queue: ')\n",
    "\n",
    "queue = deque([])\n",
    "\n",
    "queue.append('Brain')\n",
    "queue.append('Kevin')\n",
    "queue.append('Alex')\n",
    "queue.append('Sarah')\n",
    "queue.append('Robert')\n",
    "\n",
    "print(queue)\n",
    "\n",
    "while queue:\n",
    "    print(queue.popleft())\n",
    "    print(queue)"
   ]
  },
  {
   "cell_type": "markdown",
   "metadata": {},
   "source": [
    "## Linked List (Data Structure)\n",
    "\n",
    "A linked list is created by using the node class. We create a Node object and create another class to use this node object. We pass the appropriate values thorugh the node object to point the to the next data elements.\n",
    "\n",
    "There are some advantages and disadvantages with this data structure. **Advantages** Linked Lists can save memory because they can be flexibile with memory management which saves memory. **Disadvantages** Finding or adding to the list requires traversing the entire list."
   ]
  },
  {
   "cell_type": "code",
   "execution_count": 20,
   "metadata": {},
   "outputs": [
    {
     "name": "stdout",
     "output_type": "stream",
     "text": [
      "Monday\n",
      "Tuesday\n",
      "Wednesday\n"
     ]
    }
   ],
   "source": [
    "class LinkedListNode:\n",
    "    def __init__(self, value):\n",
    "        self.value = value\n",
    "        self.next = None\n",
    "    \n",
    "    def traverse_list(self):\n",
    "        node = self\n",
    "        while node is not None:\n",
    "            print(node.value)\n",
    "            node = node.next\n",
    "            \n",
    "            \n",
    "node1 = LinkedListNode('Monday')\n",
    "node2 = LinkedListNode('Tuesday')\n",
    "node3 = LinkedListNode('Wednesday')\n",
    "\n",
    "node1.next = node2\n",
    "node2.next = node3\n",
    "\n",
    "node1.traverse_list()"
   ]
  },
  {
   "cell_type": "code",
   "execution_count": 37,
   "metadata": {
    "scrolled": true
   },
   "outputs": [
    {
     "name": "stdout",
     "output_type": "stream",
     "text": [
      "Monday\n",
      "Tuesday\n",
      "Wednesday\n",
      "Thursday\n",
      "Friday\n"
     ]
    }
   ],
   "source": [
    "# Complete Implementation of Linked List - add new nodes to the beggining and end, and also insert after a certain node\n",
    "# add to the front of the Linked List \n",
    "#Add to the end of the Linked List \n",
    "# Insert after a particular node \n",
    "#Tranverse through the Linked list \n",
    "\n",
    "\n",
    "# 2 Classes - Node Class and Linked List Class\n",
    "\n",
    "\n",
    "class Node:\n",
    "    def __init__(self, value):\n",
    "        self.value = value \n",
    "        self.next = None\n",
    "        \n",
    "    def __str__(self):\n",
    "        return str(self.value)\n",
    "    \n",
    "    def __repr__(self):\n",
    "        return f\"<Node|{self.value}\"\n",
    "    \n",
    "    \n",
    "class LinkedList:\n",
    "    def __init__(self):\n",
    "        #head attribute that will point to the first node of the Linked List\n",
    "        self.head = None\n",
    "    \n",
    "    #Method that will return a node based on the vlaue or return None if it does not exist \n",
    "    def get_node(self, value_to_get):\n",
    "        # Start with the first node\n",
    "        node_to_check = self.head\n",
    "        # While the node to check is still a node\n",
    "        while node_to_check is not None:\n",
    "        # if the value to check is equal to value to get\n",
    "            if node_to_check.value == value_to_get:\n",
    "            # Return node\n",
    "                return node_to_check\n",
    "            # if not, move on to the next node\n",
    "            node_to_check = node_to_check.next\n",
    "        # Once the node to check becomes None, we know that the value to get is not in the list\n",
    "        return None\n",
    "        \n",
    "    # Method to add a new node to the front of the Linked List \n",
    "    def push_on(self, new_value):\n",
    "        #Create a new node with the value passed in \n",
    "        new_node = Node(new_value)\n",
    "        # Set the new node's new attirbute to be the current head \n",
    "        new_node.next = self.head\n",
    "        # Set the new node to be the front of the Linked List (aka the head)\n",
    "        self.head = new_node\n",
    "        \n",
    "    # Method to print out all the nodes in Linked List in order \n",
    "    def traverse_list(self):\n",
    "        #start at the begginning of the list \n",
    "        node = self.head \n",
    "        # While the node is not None, continue to loop \n",
    "        while node is not None:\n",
    "            #print out the node (which we will call the Node __str__ method)\n",
    "            print(node)\n",
    "            # Set the node to the next node in the list \n",
    "            node = node.next\n",
    "            \n",
    "    # Method to create a new node to the end of the list \n",
    "    def append(self, new_value):\n",
    "        # Create a new node with the value that is passed in \n",
    "        new_node = Node(new_value)\n",
    "        #Check if the list is empty \n",
    "        if self.head is None:\n",
    "            #Set the head to be the new node \n",
    "            self.head = new_node \n",
    "        # If its not empty \n",
    "        else:\n",
    "            #traverse to the end of the list (aka the node.next is none)\n",
    "            node = self.head \n",
    "            while node.next is not None:\n",
    "                #Move to the next node in the list \n",
    "                node = node.next\n",
    "            #Set the last node's next atrubute to be the new node \n",
    "            node.next = new_node\n",
    "        \n",
    "    #Method to insert a node in the linked list after a certian node (by value)\n",
    "    def insert_after(self, prev_value, new_value):\n",
    "        prev_node = self.get_node(prev_value)\n",
    "        #check if the previous node exists \n",
    "        if prev_node is None:\n",
    "            print(f\"{prev_value} is not in the linked list\")\n",
    "        else:\n",
    "            # Create a new node with the new value passed in \n",
    "            new_node = Node(new_value)\n",
    "            #point the new node's .next atrtribute to the previous node's .next\n",
    "            new_node.next = prev_node.next\n",
    "            #point the previous node's .next to the new node \n",
    "            prev_node.next = new_node\n",
    "            \n",
    "            \n",
    "            \n",
    "\n",
    "weekdays = LinkedList()\n",
    "weekdays.push_on('Wednesday')\n",
    "weekdays.push_on('Monday')\n",
    "weekdays.append('Thursday')\n",
    "weekdays.append('Friday')\n",
    "weekdays.insert_after('Monday', 'Tuesday')\n",
    "weekdays.traverse_list()"
   ]
  },
  {
   "cell_type": "code",
   "execution_count": 35,
   "metadata": {},
   "outputs": [],
   "source": [
    "weekdays.get_node('Thursday')"
   ]
  },
  {
   "cell_type": "code",
   "execution_count": 38,
   "metadata": {},
   "outputs": [],
   "source": [
    "import time"
   ]
  },
  {
   "cell_type": "code",
   "execution_count": 39,
   "metadata": {},
   "outputs": [
    {
     "name": "stdout",
     "output_type": "stream",
     "text": [
      "0.0421605110168457\n",
      "0.0009963512420654297\n"
     ]
    }
   ],
   "source": [
    "a_linked_list = LinkedList()\n",
    "\n",
    "\n",
    "# Adding a new node the end of the list - O(n) - Linear Time\n",
    "start = time.time()\n",
    "\n",
    "for i in range(1000):\n",
    "    a_linked_list.append(i)\n",
    "\n",
    "end = time.time()\n",
    "\n",
    "print(end - start)\n",
    "\n",
    "# Adding a new node to the beginning of the list - O(1) - Constant Time\n",
    "start = time.time()\n",
    "\n",
    "for i in range(1000):\n",
    "    a_linked_list.push_on(i)\n",
    "\n",
    "end = time.time()\n",
    "\n",
    "print(end - start)"
   ]
  },
  {
   "cell_type": "code",
   "execution_count": 97,
   "metadata": {},
   "outputs": [
    {
     "name": "stdout",
     "output_type": "stream",
     "text": [
      "355.79824447631836\n",
      "355.79824447631836\n"
     ]
    }
   ],
   "source": [
    "# Adding to the end of Python's built-in list - O(1) - Constant Time \n",
    "normal_list = []\n",
    "\n",
    "for i in range(1000):\n",
    "    normal_list.append(i)\n",
    "    \n",
    "end = time.time()\n",
    "\n",
    "print(end - start)\n",
    "\n",
    "# Adding to the front of Python's built-in list - O(n) - Linear Time\n",
    "normal_list = []\n",
    "\n",
    "for i in range(1000):\n",
    "    normal_list.insert(0, i)\n",
    "    \n",
    "end = time.time()\n",
    "\n",
    "print(end - start)"
   ]
  },
  {
   "cell_type": "markdown",
   "metadata": {},
   "source": [
    "## Binary Search Trees"
   ]
  },
  {
   "cell_type": "code",
   "execution_count": 107,
   "metadata": {},
   "outputs": [],
   "source": [
    "class BST:\n",
    "    def __init__(self, value):\n",
    "        self.value = value \n",
    "        self.left = None\n",
    "        self.right = None\n",
    "        \n",
    "    def __repr__(self):\n",
    "        return f\"<BST|{self.value}\"\n",
    "    \n",
    "    #Method to add a new node to the tree \n",
    "    def insert(self, new_value):\n",
    "        #if the new value is less tan the current node's value \n",
    "        if new_value < self.value:\n",
    "            # If the current node has no left subtree \n",
    "            if self.left is None:\n",
    "                #Set the left subtree to be a new instance of BST\n",
    "                self.left = BST(new_value)\n",
    "            #if the node does have a left subtree\n",
    "            else:\n",
    "                # Call the insert method from the left subtree \n",
    "                self.left.insert(new_value)\n",
    "        #if the new value is greater than or equal to the current node's value\n",
    "        else: \n",
    "            # if the current node has no right subtree \n",
    "            if self.right is None:\n",
    "                #set the right subtree to be a new instance of BST \n",
    "                self.right = BST(new_value)\n",
    "            #if there is a right subtree \n",
    "            else:\n",
    "                #call the insert method from the right subtree \n",
    "                self.right.insert(new_value)\n",
    "                \n",
    "                \n",
    "                \n",
    "    #Method to determine if the gvalue is in the tree \n",
    "    def contains(self, target):\n",
    "        # if target is equal to node's value\n",
    "        if target == self.value:\n",
    "            return True \n",
    "        #if target is less than the current node's value \n",
    "        elif target < self.value:\n",
    "            #if node's left subtree is empty \n",
    "            if self.left is None: \n",
    "                # We know the target is not in the tree \n",
    "                return False \n",
    "            #if the node does have a left subtree\n",
    "            else:\n",
    "                #call the contains method on the left subtree and return that value \n",
    "                return self.left.contains(target)     \n",
    "        #if target is greater than the current node's value\n",
    "        elif target > self.value: \n",
    "            #if node's right subtree is empty \n",
    "            if self.right is None: \n",
    "                #Return false because value would be here \n",
    "                return False\n",
    "            #if Empty \n",
    "            else: \n",
    "                return self.right.contains(target)\n",
    "            \n",
    "    #Method to get the maximum value in a tree \n",
    "    def get_max_value(self):\n",
    "        if self.right is None: \n",
    "            return self.value \n",
    "        else: \n",
    "            return self.right.get_max_value()\n",
    "        \n",
    "    #Method to get min value in a tree \n",
    "    def get_min_value(self):\n",
    "        if self.left is None:\n",
    "            return self.value \n",
    "        else: \n",
    "            return self.left.get_min_value()\n",
    "        \n",
    "        \n",
    "        \n",
    "tree = BST(50)\n",
    "tree.insert(25)\n",
    "tree.insert(10)\n",
    "tree.insert(75)\n",
    "tree.insert(64)\n",
    "tree.insert(60)"
   ]
  },
  {
   "cell_type": "code",
   "execution_count": 109,
   "metadata": {},
   "outputs": [
    {
     "name": "stdout",
     "output_type": "stream",
     "text": [
      "True\n",
      "False\n",
      "75\n",
      "10\n"
     ]
    }
   ],
   "source": [
    "print(tree.contains(75))\n",
    "print(tree.contains(74))\n",
    "print(tree.get_max_value())\n",
    "print(tree.get_min_value())"
   ]
  },
  {
   "cell_type": "markdown",
   "metadata": {},
   "source": [
    "# Homework"
   ]
  },
  {
   "cell_type": "markdown",
   "metadata": {},
   "source": [
    "#### Problem 1: Add a .remove method to the LinkedList\n",
    "\n",
    "Add a method to the LinkedList class to remove a node from the list.\n",
    "\n",
    "The method should take in a string of the value to remove and remove the node with that value from the LinkedList."
   ]
  },
  {
   "cell_type": "code",
   "execution_count": 138,
   "metadata": {},
   "outputs": [
    {
     "name": "stdout",
     "output_type": "stream",
     "text": [
      "Sunday\n",
      "Monday\n",
      "Tuesday\n",
      "Thursday\n",
      "Friday\n",
      "Saturday\n"
     ]
    }
   ],
   "source": [
    "class Node:\n",
    "    def __init__(self, value):\n",
    "        self.value = value\n",
    "        self.next = None\n",
    "        \n",
    "    def __str__(self):\n",
    "        return self.value\n",
    "    \n",
    "    def __repr__(self):\n",
    "        return f\"<Node|{self.value}>\"\n",
    "    \n",
    "    \n",
    "class LinkedList:\n",
    "    def __init__(self):\n",
    "        self.head = None\n",
    "        \n",
    "    def _get_node(self, value_to_get):\n",
    "        check = self.head\n",
    "        while check is not None:\n",
    "            if check.value == value_to_get:\n",
    "                return check\n",
    "            check = check.next\n",
    "        return None\n",
    "        \n",
    "    def push_on(self, new_value):\n",
    "        new_node = Node(new_value)\n",
    "        new_node.next = self.head\n",
    "        self.head = new_node\n",
    "        \n",
    "    def append(self, new_value):\n",
    "        new_node = Node(new_value)\n",
    "        \n",
    "        if self.head is None:\n",
    "            self.head = new_node\n",
    "        else:\n",
    "            node = self.head\n",
    "            while node.next is not None:\n",
    "                node = node.next\n",
    "            node.next = new_node\n",
    "            \n",
    "    def insert_after(self, prev_value, new_value):\n",
    "        prev_node = self._get_node(prev_value)\n",
    "        if prev_node is None:\n",
    "            print(f\"{prev_value} is not in linked list\")\n",
    "            return\n",
    "        \n",
    "        new_node = Node(new_value)\n",
    "        new_node.next = prev_node.next\n",
    "        prev_node.next = new_node\n",
    "        \n",
    "    def traverse_list(self):\n",
    "        node = self.head\n",
    "        while node:\n",
    "            print(node) \n",
    "            node = node.next\n",
    "    \n",
    "    #Remove the node\n",
    "    def remove(self, value_to_remove):\n",
    "        current = self.head\n",
    "        previous = None \n",
    "    \n",
    "        while current is not None:\n",
    "            if current.value == value_to_remove:\n",
    "                if previous is not None:\n",
    "                    previous.next = current.next\n",
    "                else:\n",
    "                    self.head = current.next\n",
    "                break\n",
    "            previous = current \n",
    "            current = current.next\n",
    "                \n",
    "                \n",
    "        \n",
    "        \n",
    "        \n",
    "        \n",
    "        #Method to insert a node in the linked list after a certian node (by value)\n",
    "    def insert_after(self, prev_value, new_value):\n",
    "        prev_node = self.get_node(prev_value)\n",
    "        #check if the previous node exists \n",
    "        if prev_node is None:\n",
    "            print(f\"{prev_value} is not in the linked list\")\n",
    "        else:\n",
    "            # Create a new node with the new value passed in \n",
    "            new_node = Node(new_value)\n",
    "            #point the new node's .next atrtribute to the previous node's .next\n",
    "            new_node.next = prev_node.next\n",
    "            #point the previous node's .next to the new node \n",
    "            prev_node.next = new_node\n",
    "            \n",
    "    \n",
    "weekdays = LinkedList()\n",
    "list_of_days = ['Sunday', 'Monday', 'Tuesday', 'Wednesday', 'Thursday', 'Friday', 'Saturday']\n",
    "for day in list_of_days:\n",
    "    weekdays.append(day)\n",
    "\n",
    "weekdays.remove('Wednesday')\n",
    "\n",
    "weekdays.traverse_list()"
   ]
  }
 ],
 "metadata": {
  "kernelspec": {
   "display_name": "Python 3 (ipykernel)",
   "language": "python",
   "name": "python3"
  },
  "language_info": {
   "codemirror_mode": {
    "name": "ipython",
    "version": 3
   },
   "file_extension": ".py",
   "mimetype": "text/x-python",
   "name": "python",
   "nbconvert_exporter": "python",
   "pygments_lexer": "ipython3",
   "version": "3.10.9"
  }
 },
 "nbformat": 4,
 "nbformat_minor": 2
}
